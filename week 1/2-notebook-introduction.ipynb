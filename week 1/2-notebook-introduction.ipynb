{
 "cells": [
  {
   "cell_type": "markdown",
   "metadata": {},
   "source": [
    "# Introduction to Jupyter Notebooks\n",
    "\n",
    "Welcome to Week 1 of the GenAI Accelerator Labs! This notebook introduces you to working with Jupyter notebooks.\n",
    "\n",
    "## What are Jupyter Notebooks?\n",
    "\n",
    "Jupyter notebooks are interactive documents that combine:\n",
    "- Live code execution\n",
    "- Rich text (using Markdown)\n",
    "- Visualizations\n",
    "- Equations and more\n",
    "\n",
    "They're perfect for data exploration, prototyping AI models, and documenting your work."
   ]
  },
  {
   "cell_type": "markdown",
   "metadata": {},
   "source": [
    "## Working with Cells\n",
    "\n",
    "Notebooks are made up of \"cells\" which can be either:\n",
    "1. **Code cells** - for executing Python code\n",
    "2. **Markdown cells** - for formatted text (like this one!)\n",
    "\n",
    "Let's see a code cell in action below:"
   ]
  },
  {
   "cell_type": "code",
   "execution_count": null,
   "metadata": {},
   "outputs": [],
   "source": [
    "# This is a code cell\n",
    "print(\"Hello, GenAI world!\")\n",
    "\n",
    "# You can run simple calculations\n",
    "result = 42 * 2\n",
    "print(f\"The answer is {result}\")"
   ]
  },
  {
   "cell_type": "markdown",
   "metadata": {},
   "source": [
    "## Variables Persist Between Cells\n",
    "\n",
    "One powerful feature of notebooks is that variables defined in one cell are available in later cells:"
   ]
  },
  {
   "cell_type": "code",
   "execution_count": null,
   "metadata": {},
   "outputs": [],
   "source": [
    "# We can use the 'result' variable from above\n",
    "print(f\"Our previous result was {result}\")\n",
    "\n",
    "# Let's create a list\n",
    "ai_topics = [\"LLMs\", \"RAG\", \"Prompt Engineering\", \"Fine-tuning\", \"Evaluation\"]\n",
    "print(\"Topics we'll cover:\")\n",
    "for topic in ai_topics:\n",
    "    print(f\"- {topic}\")"
   ]
  },
  {
   "cell_type": "markdown",
   "metadata": {},
   "source": [
    "## Markdown Formatting\n",
    "\n",
    "Markdown cells support rich formatting:\n",
    "\n",
    "### Headers\n",
    "\n",
    "- **Bold text** and *italic text*\n",
    "- `inline code`\n",
    "- Bullet lists (like this one!)\n",
    "\n",
    "#### Code blocks\n",
    "```python\n",
    "def hello_ai():\n",
    "    return \"AI is transforming the world!\"\n",
    "```\n",
    "\n",
    "##### Tables\n",
    "\n",
    "| Week | Topic |\n",
    "|------|-------|\n",
    "| 1    | Python Fundamentals |\n",
    "| 2    | Design Patterns |\n",
    "| 3    | Event-Driven Architecture |\n",
    "| 4    | RAG |\n",
    "| 5    | Observability |\n",
    "| 6    | Deployment |"
   ]
  },
  {
   "cell_type": "code",
   "execution_count": null,
   "metadata": {},
   "outputs": [],
   "source": [
    "# Let's import and use a popular library\n",
    "import matplotlib.pyplot as plt\n",
    "import numpy as np\n",
    "\n",
    "# Create a simple plot\n",
    "x = np.linspace(0, 10, 100)\n",
    "y = np.sin(x)\n",
    "\n",
    "plt.figure(figsize=(10, 6))\n",
    "plt.plot(x, y)\n",
    "plt.title(\"A Simple Sine Wave\")\n",
    "plt.xlabel(\"x\")\n",
    "plt.ylabel(\"sin(x)\")\n",
    "plt.grid(True)\n",
    "plt.show()"
   ]
  },
  {
   "cell_type": "markdown",
   "metadata": {},
   "source": [
    "## Tips for Using Notebooks\n",
    "\n",
    "1. **Keyboard shortcuts**:\n",
    "   - `Shift+Enter`: Run cell and move to next cell\n",
    "   - `Ctrl+Enter`: Run cell and stay in current cell\n",
    "   - `Esc` then `m`: Convert cell to Markdown\n",
    "   - `Esc` then `y`: Convert cell to Code\n",
    "   - `Esc` then `a`: Insert cell above current cell\\n\",\n",
    "   - `Esc` then `b`: Insert cell below current cell\\n\",\n",
    "\n",
    "2. **Best practices**:\n",
    "   - Document your work with markdown cells\n",
    "   - Run cells in sequential order to ensure proper state\n",
    "   - Save your work frequently\n",
    "   - Use clear variable names\n",
    "   \n",
    "3. **Next steps**:\n",
    "   - Try creating your own cells\n",
    "   - Experiment with different markdown formatting\n",
    "   - Import and use other libraries\n",
    "   \n",
    "Enjoy exploring the world of AI through notebooks!"
   ]
  }
 ],
 "metadata": {
  "kernelspec": {
   "display_name": ".venv",
   "language": "python",
   "name": "python3"
  },
  "language_info": {
   "codemirror_mode": {
    "name": "ipython",
    "version": 3
   },
   "file_extension": ".py",
   "mimetype": "text/x-python",
   "name": "python",
   "nbconvert_exporter": "python",
   "pygments_lexer": "ipython3",
   "version": "3.11.10"
  }
 },
 "nbformat": 4,
 "nbformat_minor": 4
}
